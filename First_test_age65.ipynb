{
 "cells": [
  {
   "cell_type": "code",
   "execution_count": 2,
   "metadata": {},
   "outputs": [
    {
     "name": "stderr",
     "output_type": "stream",
     "text": [
      "2024-12-16 15:23:36.247994: I tensorflow/core/platform/cpu_feature_guard.cc:210] This TensorFlow binary is optimized to use available CPU instructions in performance-critical operations.\n",
      "To enable the following instructions: SSE4.1 SSE4.2, in other operations, rebuild TensorFlow with the appropriate compiler flags.\n"
     ]
    }
   ],
   "source": [
    "import tensorflow as tf\n",
    "from tensorflow.keras.models import Sequential\n",
    "from tensorflow.keras.layers import Dense\n",
    "from tensorflow.keras.optimizers import Adam\n",
    "import pandas as pd\n",
    "import patsy\n",
    "from patsy import dmatrices"
   ]
  },
  {
   "cell_type": "markdown",
   "metadata": {},
   "source": [
    "Ok now we upload the files and we see what come out "
   ]
  },
  {
   "cell_type": "code",
   "execution_count": 3,
   "metadata": {},
   "outputs": [
    {
     "data": {
      "text/plain": [
       "Index(['y', 'g_pop_NUTS2', 'lag1ratio.tot_pop_NUTS2', 'lag1_under15',\n",
       "       'lag1_15_24', 'lag1_25_44', 'lag1_45_64', 'lag1_65', 'lag2_15_24',\n",
       "       'lag2_25_44', 'lag1_g_under15', 'lag1_g_15_24', 'lag1_g_25_44',\n",
       "       'lag1_g_45_64', 'lag1_g_65', 'log_quot', 'lag1_quot_under15',\n",
       "       'lag1_quot_15_24', 'lag1_quot_25_44', 'lag1_quot_45_64', 'lag1_quot_65',\n",
       "       'lag2_quot_15_24', 'ctry_prop_under15', 'ctry_prop_15_24',\n",
       "       'ctry_prop_25_44', 'ctry_prop_45_64', 'ctry_prop_65',\n",
       "       'lag1_ctry_prop_15_24', 'lag1_ctry_prop_25_44', 'lag1_ctry_prop_45_64',\n",
       "       'lag2_ctry_prop_15_24', 'lag2_ctry_prop_25_44',\n",
       "       'lag1_ctry_pop_g_under15', 'lag1_ctry_pop_g_15_24',\n",
       "       'lag1_ctry_pop_g_45_64', 'lag1_ctry_pop_g_65', 'cluster_1', 'cluster_2',\n",
       "       'cluster_3', 'urb_frac'],\n",
       "      dtype='object')"
      ]
     },
     "execution_count": 3,
     "metadata": {},
     "output_type": "execute_result"
    }
   ],
   "source": [
    "train_data = pd.read_csv('data/train_data.csv', index_col=[0])\n",
    "test_data = pd.read_csv('data/test_data.csv', index_col=[0])\n",
    "train_data.rename(columns={'g.pop.NUTS2': 'g_pop_NUTS2', 'log.quot':'log_quot'}, inplace=True)\n",
    "test_data.rename(columns={'g.pop.NUTS2': 'g_pop_NUTS2',  'log.quot':'log_quot'}, inplace=True)\n",
    "\n",
    "train_data.columns"
   ]
  },
  {
   "cell_type": "code",
   "execution_count": 19,
   "metadata": {},
   "outputs": [
    {
     "data": {
      "text/plain": [
       "['y',\n",
       " 'g_pop_NUTS2',\n",
       " 'lag1_under15',\n",
       " 'lag1_25_44',\n",
       " 'lag1_45_64',\n",
       " 'lag1_65',\n",
       " 'lag2_15_24',\n",
       " 'lag2_25_44',\n",
       " 'lag1_g_15_24',\n",
       " 'lag1_g_25_44',\n",
       " 'lag1_g_45_64',\n",
       " 'lag1_g_65',\n",
       " 'log_quot',\n",
       " 'lag1_quot_15_24',\n",
       " 'lag1_quot_25_44',\n",
       " 'lag1_quot_45_64',\n",
       " 'lag1_quot_65',\n",
       " 'lag2_quot_15_24',\n",
       " 'ctry_prop_under15',\n",
       " 'ctry_prop_15_24',\n",
       " 'ctry_prop_45_64',\n",
       " 'ctry_prop_65',\n",
       " 'lag2_ctry_prop_15_24',\n",
       " 'lag1_ctry_pop_g_under15',\n",
       " 'lag1_ctry_pop_g_45_64',\n",
       " 'lag1_ctry_pop_g_65',\n",
       " 'cluster_1',\n",
       " 'cluster_2',\n",
       " 'cluster_3',\n",
       " 'urb_frac']"
      ]
     },
     "execution_count": 19,
     "metadata": {},
     "output_type": "execute_result"
    }
   ],
   "source": [
    "# Define formula and design matrices\n",
    "formula = \"y ~ g_pop_NUTS2 + lag1_under15 + lag1_25_44 + lag1_45_64 + lag1_65 + lag2_15_24 + lag2_25_44 + lag1_g_15_24 + lag1_g_25_44 + lag1_g_45_64 + lag1_g_65 + log_quot + lag1_quot_15_24 + lag1_quot_25_44 + lag1_quot_45_64 + lag1_quot_65 + lag2_quot_15_24 + ctry_prop_under15 + ctry_prop_15_24 + ctry_prop_45_64 + ctry_prop_65 + lag2_ctry_prop_15_24 + lag1_ctry_pop_g_under15 + lag1_ctry_pop_g_45_64 + lag1_ctry_pop_g_65 + cluster_1 + cluster_2 + cluster_3 + urb_frac\"\n",
    "\n",
    "# Generate design matrices\n",
    "y, COV = dmatrices(formula, train_data)\n",
    "selected_columns = ['y'] +COV.design_info.column_names[1:]\n",
    "\n",
    "selected_columns"
   ]
  },
  {
   "cell_type": "code",
   "execution_count": 5,
   "metadata": {},
   "outputs": [],
   "source": [
    "import SIEVE_funcs\n",
    "from SIEVE_funcs import fit_mlp\n"
   ]
  },
  {
   "cell_type": "code",
   "execution_count": null,
   "metadata": {},
   "outputs": [
    {
     "name": "stderr",
     "output_type": "stream",
     "text": [
      "/Users/tambu/opt/anaconda3/envs/env_nn_sieve/lib/python3.9/site-packages/keras/src/layers/core/dense.py:87: UserWarning: Do not pass an `input_shape`/`input_dim` argument to a layer. When using Sequential models, prefer using an `Input(shape)` object as the first layer in the model instead.\n",
      "  super().__init__(activity_regularizer=activity_regularizer, **kwargs)\n"
     ]
    }
   ],
   "source": [
    "training_data = train_data[selected_columns]\n",
    "target_column = 'y'          # Name of the target column\n",
    "num_neurons = 5              # Number of neurons in the hidden layer\n",
    "learning_rate = 0.01         # Learning rate for the optimizer\n",
    "epochs_num = 10              # Number of epochs\n",
    "activation_fun = 'relu'      # Activation function for the hidden layer\n",
    "seed_to_set = 123            # Random seed for reproducibility\n",
    "\n",
    "# Call the fit_mlp function\n",
    "model = fit_mlp(training_data, \n",
    "                target_column, \n",
    "                num_neurons, \n",
    "                learning_rate, \n",
    "                epochs_num, \n",
    "                activation_fun, \n",
    "                seed_to_set)"
   ]
  },
  {
   "cell_type": "code",
   "execution_count": null,
   "metadata": {},
   "outputs": [],
   "source": []
  },
  {
   "cell_type": "code",
   "execution_count": null,
   "metadata": {},
   "outputs": [],
   "source": []
  },
  {
   "cell_type": "code",
   "execution_count": null,
   "metadata": {},
   "outputs": [],
   "source": []
  },
  {
   "cell_type": "code",
   "execution_count": null,
   "metadata": {},
   "outputs": [],
   "source": []
  },
  {
   "cell_type": "code",
   "execution_count": null,
   "metadata": {},
   "outputs": [],
   "source": []
  },
  {
   "cell_type": "code",
   "execution_count": null,
   "metadata": {},
   "outputs": [],
   "source": []
  },
  {
   "cell_type": "code",
   "execution_count": null,
   "metadata": {},
   "outputs": [],
   "source": []
  },
  {
   "cell_type": "code",
   "execution_count": null,
   "metadata": {},
   "outputs": [],
   "source": []
  },
  {
   "cell_type": "code",
   "execution_count": null,
   "metadata": {},
   "outputs": [],
   "source": []
  },
  {
   "cell_type": "code",
   "execution_count": null,
   "metadata": {},
   "outputs": [],
   "source": []
  },
  {
   "cell_type": "code",
   "execution_count": null,
   "metadata": {},
   "outputs": [],
   "source": []
  },
  {
   "cell_type": "code",
   "execution_count": null,
   "metadata": {},
   "outputs": [],
   "source": []
  },
  {
   "cell_type": "code",
   "execution_count": null,
   "metadata": {},
   "outputs": [],
   "source": []
  },
  {
   "cell_type": "code",
   "execution_count": null,
   "metadata": {},
   "outputs": [],
   "source": []
  }
 ],
 "metadata": {
  "kernelspec": {
   "display_name": "env_nn_sieve",
   "language": "python",
   "name": "python3"
  },
  "language_info": {
   "codemirror_mode": {
    "name": "ipython",
    "version": 3
   },
   "file_extension": ".py",
   "mimetype": "text/x-python",
   "name": "python",
   "nbconvert_exporter": "python",
   "pygments_lexer": "ipython3",
   "version": "3.9.21"
  }
 },
 "nbformat": 4,
 "nbformat_minor": 2
}
